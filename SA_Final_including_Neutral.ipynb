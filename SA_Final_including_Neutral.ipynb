{
  "nbformat": 4,
  "nbformat_minor": 0,
  "metadata": {
    "colab": {
      "name": "SA_Final including Neutral.ipynb",
      "provenance": [],
      "collapsed_sections": []
    },
    "kernelspec": {
      "name": "python3",
      "display_name": "Python 3"
    },
    "language_info": {
      "name": "python"
    }
  },
  "cells": [
    {
      "cell_type": "code",
      "metadata": {
        "colab": {
          "base_uri": "https://localhost:8080/"
        },
        "id": "1U1LlCx67ZfD",
        "outputId": "a4e438c4-843f-4383-e785-a021a99e3f45"
      },
      "source": [
        "import numpy as np # linear algebra\n",
        "import pandas as pd # data processing, CSV file I/O (e.g. pd.read_csv)\n",
        "import matplotlib.pyplot as plt\n",
        "import seaborn as sns \n",
        "from scipy import stats\n",
        "\n",
        "from tensorflow.python.keras.models import Sequential\n",
        "from tensorflow.python.keras.layers import Dense, Embedding,LSTM\n",
        "from tensorflow.python.keras.preprocessing.text import Tokenizer\n",
        "from keras.optimizers import Adam\n",
        "from keras.layers import Dropout\n",
        "from tensorflow.python.keras.preprocessing.sequence import pad_sequences\n",
        "from tensorflow.python.keras.models import load_model\n",
        "from sklearn.model_selection import train_test_split\n",
        "import re\n",
        "import nltk \n",
        "nltk.download(\"stopwords\")\n",
        "nltk.download(\"punkt\")\n",
        "from nltk.corpus import stopwords\n",
        "nltk.download('punkt')\n",
        "\n",
        "# Input data files are available in the read-only \"../input/\" directory\n",
        "# For example, running this (by clicking run or pressing Shift+Enter) will list all files under the input directory\n",
        "# warning library\n",
        "import warnings\n",
        "warnings.filterwarnings(\"ignore\")"
      ],
      "execution_count": null,
      "outputs": [
        {
          "output_type": "stream",
          "text": [
            "[nltk_data] Downloading package stopwords to /root/nltk_data...\n",
            "[nltk_data]   Unzipping corpora/stopwords.zip.\n",
            "[nltk_data] Downloading package punkt to /root/nltk_data...\n",
            "[nltk_data]   Unzipping tokenizers/punkt.zip.\n",
            "[nltk_data] Downloading package punkt to /root/nltk_data...\n",
            "[nltk_data]   Package punkt is already up-to-date!\n"
          ],
          "name": "stdout"
        }
      ]
    },
    {
      "cell_type": "code",
      "metadata": {
        "id": "rml8UYzk7hL_",
        "colab": {
          "base_uri": "https://localhost:8080/"
        },
        "outputId": "69e20b91-c6aa-4299-92be-eec33444e8ab"
      },
      "source": [
        "from google.colab import drive\n",
        "drive.mount('/content/drive')"
      ],
      "execution_count": null,
      "outputs": [
        {
          "output_type": "stream",
          "text": [
            "Mounted at /content/drive\n"
          ],
          "name": "stdout"
        }
      ]
    },
    {
      "cell_type": "markdown",
      "metadata": {
        "id": "kred9iCy05Re"
      },
      "source": [
        "### Read the csv file"
      ]
    },
    {
      "cell_type": "code",
      "metadata": {
        "id": "7Dy9KZ8I7hOK"
      },
      "source": [
        "data = pd.read_csv(\"/content/drive/MyDrive/ebay_reviews.csv\")"
      ],
      "execution_count": null,
      "outputs": []
    },
    {
      "cell_type": "code",
      "metadata": {
        "colab": {
          "base_uri": "https://localhost:8080/",
          "height": 196
        },
        "id": "xlrZykcu7hQL",
        "outputId": "9ca22061-0513-49d2-c495-75fc33585d72"
      },
      "source": [
        "data.head()"
      ],
      "execution_count": null,
      "outputs": [
        {
          "output_type": "execute_result",
          "data": {
            "text/html": [
              "<div>\n",
              "<style scoped>\n",
              "    .dataframe tbody tr th:only-of-type {\n",
              "        vertical-align: middle;\n",
              "    }\n",
              "\n",
              "    .dataframe tbody tr th {\n",
              "        vertical-align: top;\n",
              "    }\n",
              "\n",
              "    .dataframe thead th {\n",
              "        text-align: right;\n",
              "    }\n",
              "</style>\n",
              "<table border=\"1\" class=\"dataframe\">\n",
              "  <thead>\n",
              "    <tr style=\"text-align: right;\">\n",
              "      <th></th>\n",
              "      <th>category</th>\n",
              "      <th>review title</th>\n",
              "      <th>review content</th>\n",
              "      <th>rating</th>\n",
              "    </tr>\n",
              "  </thead>\n",
              "  <tbody>\n",
              "    <tr>\n",
              "      <th>0</th>\n",
              "      <td>Headsets</td>\n",
              "      <td>Wireless gaming headset</td>\n",
              "      <td>This gaming headset ticks all the boxes # look...</td>\n",
              "      <td>5</td>\n",
              "    </tr>\n",
              "    <tr>\n",
              "      <th>1</th>\n",
              "      <td>Headsets</td>\n",
              "      <td>Good for those with a big head, low budget</td>\n",
              "      <td>Easy setup, rated for 6 hours battery but mine...</td>\n",
              "      <td>3</td>\n",
              "    </tr>\n",
              "    <tr>\n",
              "      <th>2</th>\n",
              "      <td>Headsets</td>\n",
              "      <td>MezumiWireless Gaming Headset</td>\n",
              "      <td>I originally bought this wireless headset for ...</td>\n",
              "      <td>5</td>\n",
              "    </tr>\n",
              "    <tr>\n",
              "      <th>3</th>\n",
              "      <td>Headsets</td>\n",
              "      <td>HW- S2 great headset.</td>\n",
              "      <td>This is my 2nd Mezumi headset, It kills the fi...</td>\n",
              "      <td>5</td>\n",
              "    </tr>\n",
              "    <tr>\n",
              "      <th>4</th>\n",
              "      <td>Headsets</td>\n",
              "      <td>BEST HEADPHONES I'VE PURCHASED IN MY ENTIRE LIFE</td>\n",
              "      <td>This is probably the best headset I've purchas...</td>\n",
              "      <td>5</td>\n",
              "    </tr>\n",
              "  </tbody>\n",
              "</table>\n",
              "</div>"
            ],
            "text/plain": [
              "   category  ... rating\n",
              "0  Headsets  ...      5\n",
              "1  Headsets  ...      3\n",
              "2  Headsets  ...      5\n",
              "3  Headsets  ...      5\n",
              "4  Headsets  ...      5\n",
              "\n",
              "[5 rows x 4 columns]"
            ]
          },
          "metadata": {
            "tags": []
          },
          "execution_count": 4
        }
      ]
    },
    {
      "cell_type": "code",
      "metadata": {
        "colab": {
          "base_uri": "https://localhost:8080/"
        },
        "id": "-SPmOEAn7hSL",
        "outputId": "6346a897-57af-48f7-fe15-dafedaaa4cde"
      },
      "source": [
        "# the columns \n",
        "data.columns"
      ],
      "execution_count": null,
      "outputs": [
        {
          "output_type": "execute_result",
          "data": {
            "text/plain": [
              "Index(['category', 'review title', 'review content', 'rating'], dtype='object')"
            ]
          },
          "metadata": {
            "tags": []
          },
          "execution_count": 5
        }
      ]
    },
    {
      "cell_type": "markdown",
      "metadata": {
        "id": "-kpHVPoEBAvy"
      },
      "source": [
        "Drop unnecessary Columns"
      ]
    },
    {
      "cell_type": "code",
      "metadata": {
        "colab": {
          "base_uri": "https://localhost:8080/",
          "height": 196
        },
        "id": "t3LECzDc7hT8",
        "outputId": "730dc133-cc7b-4c97-e1e7-e00e5f42bb75"
      },
      "source": [
        "data = data.drop(columns=[\"category\",\"review title\"])\n",
        "data.head()"
      ],
      "execution_count": null,
      "outputs": [
        {
          "output_type": "execute_result",
          "data": {
            "text/html": [
              "<div>\n",
              "<style scoped>\n",
              "    .dataframe tbody tr th:only-of-type {\n",
              "        vertical-align: middle;\n",
              "    }\n",
              "\n",
              "    .dataframe tbody tr th {\n",
              "        vertical-align: top;\n",
              "    }\n",
              "\n",
              "    .dataframe thead th {\n",
              "        text-align: right;\n",
              "    }\n",
              "</style>\n",
              "<table border=\"1\" class=\"dataframe\">\n",
              "  <thead>\n",
              "    <tr style=\"text-align: right;\">\n",
              "      <th></th>\n",
              "      <th>review content</th>\n",
              "      <th>rating</th>\n",
              "    </tr>\n",
              "  </thead>\n",
              "  <tbody>\n",
              "    <tr>\n",
              "      <th>0</th>\n",
              "      <td>This gaming headset ticks all the boxes # look...</td>\n",
              "      <td>5</td>\n",
              "    </tr>\n",
              "    <tr>\n",
              "      <th>1</th>\n",
              "      <td>Easy setup, rated for 6 hours battery but mine...</td>\n",
              "      <td>3</td>\n",
              "    </tr>\n",
              "    <tr>\n",
              "      <th>2</th>\n",
              "      <td>I originally bought this wireless headset for ...</td>\n",
              "      <td>5</td>\n",
              "    </tr>\n",
              "    <tr>\n",
              "      <th>3</th>\n",
              "      <td>This is my 2nd Mezumi headset, It kills the fi...</td>\n",
              "      <td>5</td>\n",
              "    </tr>\n",
              "    <tr>\n",
              "      <th>4</th>\n",
              "      <td>This is probably the best headset I've purchas...</td>\n",
              "      <td>5</td>\n",
              "    </tr>\n",
              "  </tbody>\n",
              "</table>\n",
              "</div>"
            ],
            "text/plain": [
              "                                      review content  rating\n",
              "0  This gaming headset ticks all the boxes # look...       5\n",
              "1  Easy setup, rated for 6 hours battery but mine...       3\n",
              "2  I originally bought this wireless headset for ...       5\n",
              "3  This is my 2nd Mezumi headset, It kills the fi...       5\n",
              "4  This is probably the best headset I've purchas...       5"
            ]
          },
          "metadata": {
            "tags": []
          },
          "execution_count": 6
        }
      ]
    },
    {
      "cell_type": "code",
      "metadata": {
        "colab": {
          "base_uri": "https://localhost:8080/"
        },
        "id": "uTaAPFGV7hV7",
        "outputId": "9295e7a2-0131-4daa-c3d6-fdfb6a26927b"
      },
      "source": [
        "# we are looking at the size of our data.\n",
        "data.shape"
      ],
      "execution_count": null,
      "outputs": [
        {
          "output_type": "execute_result",
          "data": {
            "text/plain": [
              "(44756, 2)"
            ]
          },
          "metadata": {
            "tags": []
          },
          "execution_count": 7
        }
      ]
    },
    {
      "cell_type": "code",
      "metadata": {
        "colab": {
          "base_uri": "https://localhost:8080/"
        },
        "id": "SwnrQyR17hX2",
        "outputId": "45d4f61d-4fe0-442d-d85b-c3771d72a032"
      },
      "source": [
        "data.info()"
      ],
      "execution_count": null,
      "outputs": [
        {
          "output_type": "stream",
          "text": [
            "<class 'pandas.core.frame.DataFrame'>\n",
            "RangeIndex: 44756 entries, 0 to 44755\n",
            "Data columns (total 2 columns):\n",
            " #   Column          Non-Null Count  Dtype \n",
            "---  ------          --------------  ----- \n",
            " 0   review content  44756 non-null  object\n",
            " 1   rating          44756 non-null  int64 \n",
            "dtypes: int64(1), object(1)\n",
            "memory usage: 699.4+ KB\n"
          ],
          "name": "stdout"
        }
      ]
    },
    {
      "cell_type": "code",
      "metadata": {
        "colab": {
          "base_uri": "https://localhost:8080/",
          "height": 286
        },
        "id": "N1BeSARw7hZ4",
        "outputId": "3e6e2c1f-550d-43bb-989d-fe2b7a385abd"
      },
      "source": [
        "# statistical summary of our data\n",
        "data.describe()"
      ],
      "execution_count": null,
      "outputs": [
        {
          "output_type": "execute_result",
          "data": {
            "text/html": [
              "<div>\n",
              "<style scoped>\n",
              "    .dataframe tbody tr th:only-of-type {\n",
              "        vertical-align: middle;\n",
              "    }\n",
              "\n",
              "    .dataframe tbody tr th {\n",
              "        vertical-align: top;\n",
              "    }\n",
              "\n",
              "    .dataframe thead th {\n",
              "        text-align: right;\n",
              "    }\n",
              "</style>\n",
              "<table border=\"1\" class=\"dataframe\">\n",
              "  <thead>\n",
              "    <tr style=\"text-align: right;\">\n",
              "      <th></th>\n",
              "      <th>rating</th>\n",
              "    </tr>\n",
              "  </thead>\n",
              "  <tbody>\n",
              "    <tr>\n",
              "      <th>count</th>\n",
              "      <td>44756.000000</td>\n",
              "    </tr>\n",
              "    <tr>\n",
              "      <th>mean</th>\n",
              "      <td>4.656337</td>\n",
              "    </tr>\n",
              "    <tr>\n",
              "      <th>std</th>\n",
              "      <td>0.847600</td>\n",
              "    </tr>\n",
              "    <tr>\n",
              "      <th>min</th>\n",
              "      <td>1.000000</td>\n",
              "    </tr>\n",
              "    <tr>\n",
              "      <th>25%</th>\n",
              "      <td>5.000000</td>\n",
              "    </tr>\n",
              "    <tr>\n",
              "      <th>50%</th>\n",
              "      <td>5.000000</td>\n",
              "    </tr>\n",
              "    <tr>\n",
              "      <th>75%</th>\n",
              "      <td>5.000000</td>\n",
              "    </tr>\n",
              "    <tr>\n",
              "      <th>max</th>\n",
              "      <td>5.000000</td>\n",
              "    </tr>\n",
              "  </tbody>\n",
              "</table>\n",
              "</div>"
            ],
            "text/plain": [
              "             rating\n",
              "count  44756.000000\n",
              "mean       4.656337\n",
              "std        0.847600\n",
              "min        1.000000\n",
              "25%        5.000000\n",
              "50%        5.000000\n",
              "75%        5.000000\n",
              "max        5.000000"
            ]
          },
          "metadata": {
            "tags": []
          },
          "execution_count": 9
        }
      ]
    },
    {
      "cell_type": "markdown",
      "metadata": {
        "id": "oHcu6mjxBz7v"
      },
      "source": [
        "### Converting the rating to Positive or Negative"
      ]
    },
    {
      "cell_type": "code",
      "metadata": {
        "id": "dHMYVrLY7hbr"
      },
      "source": [
        "def f(row):\n",
        "    \n",
        "    '''This function returns sentiment value based on the overall ratings from the user'''\n",
        "    \n",
        "    if row['rating'] == 1 or row['rating']  == 2 :\n",
        "        val = 'Negative'\n",
        "    elif row['rating'] == 3:\n",
        "        val = 'Neutral'\n",
        "    elif row['rating'] == 4 or row['rating'] == 5  :\n",
        "        val = 'Positive'\n",
        "    else:\n",
        "        val = -1\n",
        "    return val"
      ],
      "execution_count": null,
      "outputs": []
    },
    {
      "cell_type": "markdown",
      "metadata": {
        "id": "pFPZuEfYCNow"
      },
      "source": [
        "### Applying the function in our new column"
      ]
    },
    {
      "cell_type": "code",
      "metadata": {
        "colab": {
          "base_uri": "https://localhost:8080/",
          "height": 196
        },
        "id": "2QQo3Dfp7hdk",
        "outputId": "dcce5a06-8f28-4d4d-bd73-80c8203856c6"
      },
      "source": [
        "data['sentiment'] = data.apply(f, axis=1)\n",
        "data.head()"
      ],
      "execution_count": null,
      "outputs": [
        {
          "output_type": "execute_result",
          "data": {
            "text/html": [
              "<div>\n",
              "<style scoped>\n",
              "    .dataframe tbody tr th:only-of-type {\n",
              "        vertical-align: middle;\n",
              "    }\n",
              "\n",
              "    .dataframe tbody tr th {\n",
              "        vertical-align: top;\n",
              "    }\n",
              "\n",
              "    .dataframe thead th {\n",
              "        text-align: right;\n",
              "    }\n",
              "</style>\n",
              "<table border=\"1\" class=\"dataframe\">\n",
              "  <thead>\n",
              "    <tr style=\"text-align: right;\">\n",
              "      <th></th>\n",
              "      <th>review content</th>\n",
              "      <th>rating</th>\n",
              "      <th>sentiment</th>\n",
              "    </tr>\n",
              "  </thead>\n",
              "  <tbody>\n",
              "    <tr>\n",
              "      <th>0</th>\n",
              "      <td>This gaming headset ticks all the boxes # look...</td>\n",
              "      <td>5</td>\n",
              "      <td>Positive</td>\n",
              "    </tr>\n",
              "    <tr>\n",
              "      <th>1</th>\n",
              "      <td>Easy setup, rated for 6 hours battery but mine...</td>\n",
              "      <td>3</td>\n",
              "      <td>Neutral</td>\n",
              "    </tr>\n",
              "    <tr>\n",
              "      <th>2</th>\n",
              "      <td>I originally bought this wireless headset for ...</td>\n",
              "      <td>5</td>\n",
              "      <td>Positive</td>\n",
              "    </tr>\n",
              "    <tr>\n",
              "      <th>3</th>\n",
              "      <td>This is my 2nd Mezumi headset, It kills the fi...</td>\n",
              "      <td>5</td>\n",
              "      <td>Positive</td>\n",
              "    </tr>\n",
              "    <tr>\n",
              "      <th>4</th>\n",
              "      <td>This is probably the best headset I've purchas...</td>\n",
              "      <td>5</td>\n",
              "      <td>Positive</td>\n",
              "    </tr>\n",
              "  </tbody>\n",
              "</table>\n",
              "</div>"
            ],
            "text/plain": [
              "                                      review content  rating sentiment\n",
              "0  This gaming headset ticks all the boxes # look...       5  Positive\n",
              "1  Easy setup, rated for 6 hours battery but mine...       3   Neutral\n",
              "2  I originally bought this wireless headset for ...       5  Positive\n",
              "3  This is my 2nd Mezumi headset, It kills the fi...       5  Positive\n",
              "4  This is probably the best headset I've purchas...       5  Positive"
            ]
          },
          "metadata": {
            "tags": []
          },
          "execution_count": 11
        }
      ]
    },
    {
      "cell_type": "code",
      "metadata": {
        "colab": {
          "base_uri": "https://localhost:8080/",
          "height": 346
        },
        "id": "FiG0k3cf7hfX",
        "outputId": "d1182a9c-7661-4d6c-f7f1-eab402069437"
      },
      "source": [
        "sns.countplot(data[\"sentiment\"], palette = [\"green\",\"red\",\"blue\"])\n",
        "plt.show()\n",
        "print(data.sentiment.value_counts())"
      ],
      "execution_count": null,
      "outputs": [
        {
          "output_type": "display_data",
          "data": {
            "image/png": "[encoded data removed]",
            "text/plain": [
              "<Figure size 432x288 with 1 Axes>"
            ]
          },
          "metadata": {
            "tags": [],
            "needs_background": "light"
          }
        },
        {
          "output_type": "stream",
          "text": [
            "Positive    41442\n",
            "Negative     1942\n",
            "Neutral      1372\n",
            "Name: sentiment, dtype: int64\n"
          ],
          "name": "stdout"
        }
      ]
    },
    {
      "cell_type": "code",
      "metadata": {
        "colab": {
          "base_uri": "https://localhost:8080/",
          "height": 644
        },
        "id": "fO4X_6O57hha",
        "outputId": "5cd16fac-450e-4c64-953d-59ee432842d4"
      },
      "source": [
        "data.head(20)"
      ],
      "execution_count": null,
      "outputs": [
        {
          "output_type": "execute_result",
          "data": {
            "text/html": [
              "<div>\n",
              "<style scoped>\n",
              "    .dataframe tbody tr th:only-of-type {\n",
              "        vertical-align: middle;\n",
              "    }\n",
              "\n",
              "    .dataframe tbody tr th {\n",
              "        vertical-align: top;\n",
              "    }\n",
              "\n",
              "    .dataframe thead th {\n",
              "        text-align: right;\n",
              "    }\n",
              "</style>\n",
              "<table border=\"1\" class=\"dataframe\">\n",
              "  <thead>\n",
              "    <tr style=\"text-align: right;\">\n",
              "      <th></th>\n",
              "      <th>review content</th>\n",
              "      <th>rating</th>\n",
              "      <th>sentiment</th>\n",
              "    </tr>\n",
              "  </thead>\n",
              "  <tbody>\n",
              "    <tr>\n",
              "      <th>0</th>\n",
              "      <td>This gaming headset ticks all the boxes # look...</td>\n",
              "      <td>5</td>\n",
              "      <td>Positive</td>\n",
              "    </tr>\n",
              "    <tr>\n",
              "      <th>1</th>\n",
              "      <td>Easy setup, rated for 6 hours battery but mine...</td>\n",
              "      <td>3</td>\n",
              "      <td>Neutral</td>\n",
              "    </tr>\n",
              "    <tr>\n",
              "      <th>2</th>\n",
              "      <td>I originally bought this wireless headset for ...</td>\n",
              "      <td>5</td>\n",
              "      <td>Positive</td>\n",
              "    </tr>\n",
              "    <tr>\n",
              "      <th>3</th>\n",
              "      <td>This is my 2nd Mezumi headset, It kills the fi...</td>\n",
              "      <td>5</td>\n",
              "      <td>Positive</td>\n",
              "    </tr>\n",
              "    <tr>\n",
              "      <th>4</th>\n",
              "      <td>This is probably the best headset I've purchas...</td>\n",
              "      <td>5</td>\n",
              "      <td>Positive</td>\n",
              "    </tr>\n",
              "    <tr>\n",
              "      <th>5</th>\n",
              "      <td>This headsert is great for the value! I recent...</td>\n",
              "      <td>5</td>\n",
              "      <td>Positive</td>\n",
              "    </tr>\n",
              "    <tr>\n",
              "      <th>6</th>\n",
              "      <td>Happy with product , as described</td>\n",
              "      <td>4</td>\n",
              "      <td>Positive</td>\n",
              "    </tr>\n",
              "    <tr>\n",
              "      <th>7</th>\n",
              "      <td>Verified purchase:  Yes | Condition: new | Sol...</td>\n",
              "      <td>5</td>\n",
              "      <td>Positive</td>\n",
              "    </tr>\n",
              "    <tr>\n",
              "      <th>8</th>\n",
              "      <td>All good, product as described</td>\n",
              "      <td>5</td>\n",
              "      <td>Positive</td>\n",
              "    </tr>\n",
              "    <tr>\n",
              "      <th>9</th>\n",
              "      <td>no issues, good distance on blutooth, clear au...</td>\n",
              "      <td>5</td>\n",
              "      <td>Positive</td>\n",
              "    </tr>\n",
              "    <tr>\n",
              "      <th>10</th>\n",
              "      <td>Christmas present have been able to use it yet</td>\n",
              "      <td>4</td>\n",
              "      <td>Positive</td>\n",
              "    </tr>\n",
              "    <tr>\n",
              "      <th>11</th>\n",
              "      <td>These are great Headphones with a very nice cr...</td>\n",
              "      <td>5</td>\n",
              "      <td>Positive</td>\n",
              "    </tr>\n",
              "    <tr>\n",
              "      <th>12</th>\n",
              "      <td>This headset looks great. Most kids will twist...</td>\n",
              "      <td>5</td>\n",
              "      <td>Positive</td>\n",
              "    </tr>\n",
              "    <tr>\n",
              "      <th>13</th>\n",
              "      <td>Wont go wireless for xbox one, other than that...</td>\n",
              "      <td>4</td>\n",
              "      <td>Positive</td>\n",
              "    </tr>\n",
              "    <tr>\n",
              "      <th>14</th>\n",
              "      <td>Good sound but mic isn’t great, teammates some...</td>\n",
              "      <td>3</td>\n",
              "      <td>Neutral</td>\n",
              "    </tr>\n",
              "    <tr>\n",
              "      <th>15</th>\n",
              "      <td>Correct specification and excellent performance</td>\n",
              "      <td>5</td>\n",
              "      <td>Positive</td>\n",
              "    </tr>\n",
              "    <tr>\n",
              "      <th>16</th>\n",
              "      <td>I find them very comfortable and they have gre...</td>\n",
              "      <td>5</td>\n",
              "      <td>Positive</td>\n",
              "    </tr>\n",
              "    <tr>\n",
              "      <th>17</th>\n",
              "      <td>Honestly great quality and reasonably priced. ...</td>\n",
              "      <td>5</td>\n",
              "      <td>Positive</td>\n",
              "    </tr>\n",
              "    <tr>\n",
              "      <th>18</th>\n",
              "      <td>not working</td>\n",
              "      <td>2</td>\n",
              "      <td>Negative</td>\n",
              "    </tr>\n",
              "    <tr>\n",
              "      <th>19</th>\n",
              "      <td>Verified purchase:  Yes | Condition: new | Sol...</td>\n",
              "      <td>5</td>\n",
              "      <td>Positive</td>\n",
              "    </tr>\n",
              "  </tbody>\n",
              "</table>\n",
              "</div>"
            ],
            "text/plain": [
              "                                       review content  rating sentiment\n",
              "0   This gaming headset ticks all the boxes # look...       5  Positive\n",
              "1   Easy setup, rated for 6 hours battery but mine...       3   Neutral\n",
              "2   I originally bought this wireless headset for ...       5  Positive\n",
              "3   This is my 2nd Mezumi headset, It kills the fi...       5  Positive\n",
              "4   This is probably the best headset I've purchas...       5  Positive\n",
              "5   This headsert is great for the value! I recent...       5  Positive\n",
              "6                   Happy with product , as described       4  Positive\n",
              "7   Verified purchase:  Yes | Condition: new | Sol...       5  Positive\n",
              "8                      All good, product as described       5  Positive\n",
              "9   no issues, good distance on blutooth, clear au...       5  Positive\n",
              "10     Christmas present have been able to use it yet       4  Positive\n",
              "11  These are great Headphones with a very nice cr...       5  Positive\n",
              "12  This headset looks great. Most kids will twist...       5  Positive\n",
              "13  Wont go wireless for xbox one, other than that...       4  Positive\n",
              "14  Good sound but mic isn’t great, teammates some...       3   Neutral\n",
              "15    Correct specification and excellent performance       5  Positive\n",
              "16  I find them very comfortable and they have gre...       5  Positive\n",
              "17  Honestly great quality and reasonably priced. ...       5  Positive\n",
              "18                                        not working       2  Negative\n",
              "19  Verified purchase:  Yes | Condition: new | Sol...       5  Positive"
            ]
          },
          "metadata": {
            "tags": []
          },
          "execution_count": 14
        }
      ]
    },
    {
      "cell_type": "markdown",
      "metadata": {
        "id": "gpiKlZ5GCdE1"
      },
      "source": [
        "### Removing Punctuation and Brackets and etc."
      ]
    },
    {
      "cell_type": "code",
      "metadata": {
        "id": "-lkx4ipl7hjb"
      },
      "source": [
        "WPT = nltk.WordPunctTokenizer()\n",
        "stop_word_list = nltk.corpus.stopwords.words('english')\n",
        "#stop_word_list"
      ],
      "execution_count": null,
      "outputs": []
    },
    {
      "cell_type": "code",
      "metadata": {
        "colab": {
          "base_uri": "https://localhost:8080/",
          "height": 35
        },
        "id": "LN66KiSi7hlW",
        "outputId": "17344775-ff42-4b6a-8655-2561c6b3bc56"
      },
      "source": [
        "data['review content'] = data['review content'].apply(lambda x: re.sub('[,\\.!?:()\"]', '', x))\n",
        "data['review content'] = data['review content'].apply(lambda x: re.sub('[^a-zA-Z\"]', ' ', x))\n",
        "\n",
        "data['review content'] = data['review content'].apply(lambda x: x.lower())\n",
        "\n",
        "data['review content'] = data['review content'].apply(lambda x: x.strip())\n",
        "\n",
        "\"\"\"\n",
        "I closed the stopword process because it took a long time.\n",
        "If you want, you can try opening the codes in the comment line.\n",
        "\"\"\"\n",
        "#def token(values):\n",
        "   # words = nltk.tokenize.word_tokenize(values)\n",
        "    #filtered_words = [word for word in words if word not in set(stopwords.words(\"english\"))]\n",
        "    #not_stopword_doc = \" \".join(filtered_words)\n",
        "    #return not_stopword_doc\n",
        "#data['review content'] = data['review content'].apply(lambda x: token(x))"
      ],
      "execution_count": null,
      "outputs": [
        {
          "output_type": "execute_result",
          "data": {
            "application/vnd.google.colaboratory.intrinsic+json": {
              "type": "string"
            },
            "text/plain": [
              "'\\nI closed the stopword process because it took a long time.\\nIf you want, you can try opening the codes in the comment line.\\n'"
            ]
          },
          "metadata": {
            "tags": []
          },
          "execution_count": 19
        }
      ]
    },
    {
      "cell_type": "code",
      "metadata": {
        "id": "FrVwrpJl7hpd"
      },
      "source": [
        "from sklearn.feature_extraction.text import CountVectorizer"
      ],
      "execution_count": null,
      "outputs": []
    },
    {
      "cell_type": "markdown",
      "metadata": {
        "id": "S4UJbeHmn5RE"
      },
      "source": [
        "### Logistic Regression"
      ]
    },
    {
      "cell_type": "code",
      "metadata": {
        "id": "GFpoiI8A7hnX"
      },
      "source": [
        "from sklearn.linear_model import LogisticRegression"
      ],
      "execution_count": null,
      "outputs": []
    },
    {
      "cell_type": "code",
      "metadata": {
        "colab": {
          "base_uri": "https://localhost:8080/"
        },
        "id": "yBL2vnYc7hrX",
        "outputId": "6458ddfd-770a-45a4-a66e-4dc66dfa90fc"
      },
      "source": [
        "Vectorizer = CountVectorizer()\n",
        "Model = LogisticRegression(max_iter = 4000)\n",
        "\n",
        "x = data['review content']\n",
        "y = data['sentiment']\n",
        "y.value_counts()"
      ],
      "execution_count": null,
      "outputs": [
        {
          "output_type": "execute_result",
          "data": {
            "text/plain": [
              "Positive    41442\n",
              "Negative     1942\n",
              "Neutral      1372\n",
              "Name: sentiment, dtype: int64"
            ]
          },
          "metadata": {
            "tags": []
          },
          "execution_count": 22
        }
      ]
    },
    {
      "cell_type": "code",
      "metadata": {
        "id": "D5ljJRSdjNXz"
      },
      "source": [
        "   # Happy with product , as described\n",
        "   "
      ],
      "execution_count": null,
      "outputs": []
    },
    {
      "cell_type": "markdown",
      "metadata": {
        "id": "DZMFHaR0m-Nd"
      },
      "source": [
        "### Applying Random Under Sampler"
      ]
    },
    {
      "cell_type": "code",
      "metadata": {
        "id": "qQ_pQfes7htZ"
      },
      "source": [
        "from imblearn.under_sampling import RandomUnderSampler"
      ],
      "execution_count": null,
      "outputs": []
    },
    {
      "cell_type": "code",
      "metadata": {
        "colab": {
          "base_uri": "https://localhost:8080/"
        },
        "id": "KRZET9pr7hvX",
        "outputId": "344e2549-10d8-491d-b28a-f6ab5dc9f315"
      },
      "source": [
        "rus = RandomUnderSampler()\n",
        "y = np.array(y)\n",
        "x = np.array(x)\n",
        "y = np.reshape(y, (-1,1))\n",
        "x = np.reshape(x, (-1,1))\n",
        "x_r, y_r = rus.fit_resample(x, y)\n",
        "print(len(y_r))"
      ],
      "execution_count": null,
      "outputs": [
        {
          "output_type": "stream",
          "text": [
            "4116\n"
          ],
          "name": "stdout"
        }
      ]
    },
    {
      "cell_type": "markdown",
      "metadata": {
        "id": "fsZgEY7DnHzI"
      },
      "source": [
        "### Train Test Split the data"
      ]
    },
    {
      "cell_type": "code",
      "metadata": {
        "colab": {
          "base_uri": "https://localhost:8080/"
        },
        "id": "Im7vYZhI7hzQ",
        "outputId": "7cae2ba2-67cd-47c3-b4de-105e66c66674"
      },
      "source": [
        "x_train, x_test, y_train, y_test = train_test_split(x_r,y_r)\n",
        "x_test = x_test.reshape(-1)\n",
        "x_train = Vectorizer.fit_transform(x_train.reshape(-1))\n",
        "x_test = Vectorizer.transform(x_test)\n",
        "Model.fit(x_train, y_train)"
      ],
      "execution_count": null,
      "outputs": [
        {
          "output_type": "execute_result",
          "data": {
            "text/plain": [
              "LogisticRegression(C=1.0, class_weight=None, dual=False, fit_intercept=True,\n",
              "                   intercept_scaling=1, l1_ratio=None, max_iter=4000,\n",
              "                   multi_class='auto', n_jobs=None, penalty='l2',\n",
              "                   random_state=None, solver='lbfgs', tol=0.0001, verbose=0,\n",
              "                   warm_start=False)"
            ]
          },
          "metadata": {
            "tags": []
          },
          "execution_count": 26
        }
      ]
    },
    {
      "cell_type": "code",
      "metadata": {
        "id": "BLyS94iA7hxX"
      },
      "source": [
        "from sklearn.metrics import accuracy_score, confusion_matrix"
      ],
      "execution_count": null,
      "outputs": []
    },
    {
      "cell_type": "code",
      "metadata": {
        "colab": {
          "base_uri": "https://localhost:8080/"
        },
        "id": "7sftNqquspmN",
        "outputId": "37becc76-a952-472c-c8eb-5fc5cc628ef8"
      },
      "source": [
        "result = Model.predict(x_test)\n",
        "print(confusion_matrix(y_test, result))"
      ],
      "execution_count": null,
      "outputs": [
        {
          "output_type": "stream",
          "text": [
            "[[216  68  49]\n",
            " [ 88 176  93]\n",
            " [ 16  64 259]]\n"
          ],
          "name": "stdout"
        }
      ]
    },
    {
      "cell_type": "code",
      "metadata": {
        "colab": {
          "base_uri": "https://localhost:8080/"
        },
        "id": "aRCds5rCsqtF",
        "outputId": "f0f6579f-cc38-4c3d-e3f4-72a62c664ff9"
      },
      "source": [
        "accuracy = accuracy_score(y_test, result)\n",
        "print(accuracy)"
      ],
      "execution_count": null,
      "outputs": [
        {
          "output_type": "stream",
          "text": [
            "0.6326530612244898\n"
          ],
          "name": "stdout"
        }
      ]
    },
    {
      "cell_type": "markdown",
      "metadata": {
        "id": "g-UVUXNroO8O"
      },
      "source": [
        "### Test the Model"
      ]
    },
    {
      "cell_type": "code",
      "metadata": {
        "colab": {
          "base_uri": "https://localhost:8080/"
        },
        "id": "i8NjeqJb7h1U",
        "outputId": "25835d37-8b56-4a93-f7bb-dceaa4b6f7da"
      },
      "source": [
        "pred1 = Model.predict(Vectorizer.transform([\"Do not buy it. Horrible product\"]))\n",
        "pred2 = Model.predict(Vectorizer.transform([\"This is probably the best thing i have ever bought\"]))\n",
        "pred3 = Model.predict(Vectorizer.transform([\"It works fine! Thank you!\"]))\n",
        "pred4 = Model.predict(Vectorizer.transform([\"Many disadvantages, i do not recommend it\"]))\n",
        "pred5 = Model.predict(Vectorizer.transform([\"My delivery is 2 months delayed. Pure lack of profissionalism\"]))\n",
        "pred6 = Model.predict(Vectorizer.transform([\"Excellent product!\"]))\n",
        "\n",
        "print(pred1, pred2, pred3, pred4, pred5, pred6)"
      ],
      "execution_count": null,
      "outputs": [
        {
          "output_type": "stream",
          "text": [
            "['Negative'] ['Positive'] ['Positive'] ['Negative'] ['Neutral'] ['Positive']\n"
          ],
          "name": "stdout"
        }
      ]
    },
    {
      "cell_type": "markdown",
      "metadata": {
        "id": "C1TrTINYoY-X"
      },
      "source": [
        "### Multinomial Naive Bayes"
      ]
    },
    {
      "cell_type": "code",
      "metadata": {
        "id": "S_QXWE1T7h3W"
      },
      "source": [
        "from sklearn.naive_bayes import MultinomialNB \n",
        "from sklearn.metrics import accuracy_score , classification_report , confusion_matrix\n",
        "import pickle\n",
        "import seaborn as sns"
      ],
      "execution_count": null,
      "outputs": []
    },
    {
      "cell_type": "code",
      "metadata": {
        "colab": {
          "base_uri": "https://localhost:8080/"
        },
        "id": "ay-fTIpi8iXi",
        "outputId": "06c37484-9360-431e-e6d0-5e5503f63cc9"
      },
      "source": [
        "mnb = MultinomialNB()\n",
        "mnb.fit(x_train , y_train)"
      ],
      "execution_count": null,
      "outputs": [
        {
          "output_type": "execute_result",
          "data": {
            "text/plain": [
              "MultinomialNB(alpha=1.0, class_prior=None, fit_prior=True)"
            ]
          },
          "metadata": {
            "tags": []
          },
          "execution_count": 33
        }
      ]
    },
    {
      "cell_type": "code",
      "metadata": {
        "id": "yPxvezGf8iZ6"
      },
      "source": [
        "pred = mnb.predict(x_test)"
      ],
      "execution_count": null,
      "outputs": []
    },
    {
      "cell_type": "code",
      "metadata": {
        "colab": {
          "base_uri": "https://localhost:8080/"
        },
        "id": "Zw2qxucR8icA",
        "outputId": "6422a0eb-1e04-447d-db25-db98feb65b22"
      },
      "source": [
        "print(accuracy_score(y_test , pred))"
      ],
      "execution_count": null,
      "outputs": [
        {
          "output_type": "stream",
          "text": [
            "0.6365403304178814\n"
          ],
          "name": "stdout"
        }
      ]
    },
    {
      "cell_type": "code",
      "metadata": {
        "id": "JE85n2HKvSP7",
        "colab": {
          "base_uri": "https://localhost:8080/"
        },
        "outputId": "6d781867-786f-4393-8048-0cff6bc59bc6"
      },
      "source": [
        "print(confusion_matrix(y_test , pred))\n"
      ],
      "execution_count": null,
      "outputs": [
        {
          "output_type": "stream",
          "text": [
            "[[705 134]\n",
            " [148 670]]\n"
          ],
          "name": "stdout"
        }
      ]
    },
    {
      "cell_type": "code",
      "metadata": {
        "id": "TTjgVQpGvUfg",
        "colab": {
          "base_uri": "https://localhost:8080/"
        },
        "outputId": "d97d35db-f50a-43eb-e4ef-3fe79e25d81d"
      },
      "source": [
        "print(classification_report(y_test , pred))"
      ],
      "execution_count": null,
      "outputs": [
        {
          "output_type": "stream",
          "text": [
            "              precision    recall  f1-score   support\n",
            "\n",
            "    Negative       0.70      0.58      0.63       333\n",
            "     Neutral       0.54      0.68      0.60       357\n",
            "    Positive       0.73      0.65      0.69       339\n",
            "\n",
            "    accuracy                           0.64      1029\n",
            "   macro avg       0.66      0.64      0.64      1029\n",
            "weighted avg       0.65      0.64      0.64      1029\n",
            "\n"
          ],
          "name": "stdout"
        }
      ]
    },
    {
      "cell_type": "code",
      "metadata": {
        "colab": {
          "base_uri": "https://localhost:8080/",
          "height": 404
        },
        "id": "CDUvu7Qr8ieA",
        "outputId": "67dbe6c2-b370-4d0b-c71c-7907972d1f69"
      },
      "source": [
        "pd.DataFrame(np.c_[y_test , pred] , columns=[\"Actual\" , \"Predicted\"])"
      ],
      "execution_count": null,
      "outputs": [
        {
          "output_type": "execute_result",
          "data": {
            "text/html": [
              "<div>\n",
              "<style scoped>\n",
              "    .dataframe tbody tr th:only-of-type {\n",
              "        vertical-align: middle;\n",
              "    }\n",
              "\n",
              "    .dataframe tbody tr th {\n",
              "        vertical-align: top;\n",
              "    }\n",
              "\n",
              "    .dataframe thead th {\n",
              "        text-align: right;\n",
              "    }\n",
              "</style>\n",
              "<table border=\"1\" class=\"dataframe\">\n",
              "  <thead>\n",
              "    <tr style=\"text-align: right;\">\n",
              "      <th></th>\n",
              "      <th>Actual</th>\n",
              "      <th>Predicted</th>\n",
              "    </tr>\n",
              "  </thead>\n",
              "  <tbody>\n",
              "    <tr>\n",
              "      <th>0</th>\n",
              "      <td>Positive</td>\n",
              "      <td>Positive</td>\n",
              "    </tr>\n",
              "    <tr>\n",
              "      <th>1</th>\n",
              "      <td>Neutral</td>\n",
              "      <td>Neutral</td>\n",
              "    </tr>\n",
              "    <tr>\n",
              "      <th>2</th>\n",
              "      <td>Neutral</td>\n",
              "      <td>Neutral</td>\n",
              "    </tr>\n",
              "    <tr>\n",
              "      <th>3</th>\n",
              "      <td>Positive</td>\n",
              "      <td>Neutral</td>\n",
              "    </tr>\n",
              "    <tr>\n",
              "      <th>4</th>\n",
              "      <td>Neutral</td>\n",
              "      <td>Neutral</td>\n",
              "    </tr>\n",
              "    <tr>\n",
              "      <th>...</th>\n",
              "      <td>...</td>\n",
              "      <td>...</td>\n",
              "    </tr>\n",
              "    <tr>\n",
              "      <th>1024</th>\n",
              "      <td>Positive</td>\n",
              "      <td>Positive</td>\n",
              "    </tr>\n",
              "    <tr>\n",
              "      <th>1025</th>\n",
              "      <td>Positive</td>\n",
              "      <td>Positive</td>\n",
              "    </tr>\n",
              "    <tr>\n",
              "      <th>1026</th>\n",
              "      <td>Negative</td>\n",
              "      <td>Negative</td>\n",
              "    </tr>\n",
              "    <tr>\n",
              "      <th>1027</th>\n",
              "      <td>Neutral</td>\n",
              "      <td>Neutral</td>\n",
              "    </tr>\n",
              "    <tr>\n",
              "      <th>1028</th>\n",
              "      <td>Neutral</td>\n",
              "      <td>Negative</td>\n",
              "    </tr>\n",
              "  </tbody>\n",
              "</table>\n",
              "<p>1029 rows × 2 columns</p>\n",
              "</div>"
            ],
            "text/plain": [
              "        Actual Predicted\n",
              "0     Positive  Positive\n",
              "1      Neutral   Neutral\n",
              "2      Neutral   Neutral\n",
              "3     Positive   Neutral\n",
              "4      Neutral   Neutral\n",
              "...        ...       ...\n",
              "1024  Positive  Positive\n",
              "1025  Positive  Positive\n",
              "1026  Negative  Negative\n",
              "1027   Neutral   Neutral\n",
              "1028   Neutral  Negative\n",
              "\n",
              "[1029 rows x 2 columns]"
            ]
          },
          "metadata": {
            "tags": []
          },
          "execution_count": 39
        }
      ]
    },
    {
      "cell_type": "markdown",
      "metadata": {
        "id": "NWDkCzpZoyoF"
      },
      "source": [
        "### Save the Pickel file"
      ]
    },
    {
      "cell_type": "code",
      "metadata": {
        "id": "T0Bn8vhN8ifv"
      },
      "source": [
        "import pickle\n",
        "pickle.dump(Vectorizer, open(\"count-Vectorizer.pkl\" , \"wb\"))\n",
        "pickle.dump(Model, open(\"Ebay_Review_Classification.pkl\" , \"wb\"))\n"
      ],
      "execution_count": null,
      "outputs": []
    },
    {
      "cell_type": "markdown",
      "metadata": {
        "id": "xKjriadUo9KU"
      },
      "source": [
        "### Load the pickle file"
      ]
    },
    {
      "cell_type": "code",
      "metadata": {
        "id": "HTpYJLkz8ih3"
      },
      "source": [
        "save_cv = pickle.load(open('count-Vectorizer.pkl','rb'))\n",
        "model = pickle.load(open('Ebay_Review_Classification.pkl','rb'))"
      ],
      "execution_count": null,
      "outputs": []
    },
    {
      "cell_type": "markdown",
      "metadata": {
        "id": "KXBB8vgUpGV8"
      },
      "source": [
        "### Test the model"
      ]
    },
    {
      "cell_type": "code",
      "metadata": {
        "id": "uXKIZOxr8ij8"
      },
      "source": [
        "def test_model(sentence):\n",
        "    sen = save_cv.transform([sentence]).toarray()\n",
        "    res = model.predict(sen)[0]\n",
        "    if res == 'Positive':\n",
        "        return 'Positive review'\n",
        "    elif res == 'Neutral':\n",
        "        return 'Neutral review'    \n",
        "    else:\n",
        "        return 'Negative review'"
      ],
      "execution_count": null,
      "outputs": []
    },
    {
      "cell_type": "code",
      "metadata": {
        "colab": {
          "base_uri": "https://localhost:8080/"
        },
        "id": "TBcAGoPL8ilv",
        "outputId": "d3dfc1e2-6ed8-4c16-e52d-ccdb0ee0892b"
      },
      "source": [
        "sen = 'didnt work recieved bought ps4 stayed put til gave son birthday excitement didnt work blue light stayed'\n",
        "res = test_model(sen)\n",
        "print(res)"
      ],
      "execution_count": null,
      "outputs": [
        {
          "output_type": "stream",
          "text": [
            "Negative review\n"
          ],
          "name": "stdout"
        }
      ]
    },
    {
      "cell_type": "code",
      "metadata": {
        "colab": {
          "base_uri": "https://localhost:8080/"
        },
        "id": "rdw8Mo3s8ioN",
        "outputId": "c0ab5267-e89b-481a-e223-d8f62fb7836f"
      },
      "source": [
        "sen = 'It works fine! Thank you!'\n",
        "res = test_model(sen)\n",
        "print(res)"
      ],
      "execution_count": null,
      "outputs": [
        {
          "output_type": "stream",
          "text": [
            "Positive review\n"
          ],
          "name": "stdout"
        }
      ]
    },
    {
      "cell_type": "code",
      "metadata": {
        "colab": {
          "base_uri": "https://localhost:8080/"
        },
        "id": "dMrOB9R-kMcK",
        "outputId": "bf6986cb-1afa-4f43-bcd5-fa986db5a465"
      },
      "source": [
        "sen = 'Do not buy it. Horrible product'\n",
        "res = test_model(sen)\n",
        "print(res)"
      ],
      "execution_count": null,
      "outputs": [
        {
          "output_type": "stream",
          "text": [
            "Negative review\n"
          ],
          "name": "stdout"
        }
      ]
    },
    {
      "cell_type": "code",
      "metadata": {
        "colab": {
          "base_uri": "https://localhost:8080/"
        },
        "id": "Zakm2sOMO_C1",
        "outputId": "f9d77e0f-f9a6-4c45-8d44-eee7b9f44402"
      },
      "source": [
        "sen = 'Came with the original xbox controller box all smashed up. No padding nothing. Damaged all the way......'\n",
        "res = test_model(sen)\n",
        "print(res)"
      ],
      "execution_count": null,
      "outputs": [
        {
          "output_type": "stream",
          "text": [
            "Negative review\n"
          ],
          "name": "stdout"
        }
      ]
    },
    {
      "cell_type": "code",
      "metadata": {
        "colab": {
          "base_uri": "https://localhost:8080/"
        },
        "id": "axcBabyqJ3Kd",
        "outputId": "7c386e34-8657-466a-cc82-2bbb5046fdbf"
      },
      "source": [
        "sen = 'My delivery is 2 months delayed. Pure lack of profissionalism'\n",
        "res = test_model(sen)\n",
        "print(res)"
      ],
      "execution_count": null,
      "outputs": [
        {
          "output_type": "stream",
          "text": [
            "Neutral review\n"
          ],
          "name": "stdout"
        }
      ]
    }
  ]
}