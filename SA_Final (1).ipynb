{
  "nbformat": 4,
  "nbformat_minor": 0,
  "metadata": {
    "colab": {
      "name": "SA_Final.ipynb",
      "provenance": [],
      "collapsed_sections": []
    },
    "kernelspec": {
      "name": "python3",
      "display_name": "Python 3"
    },
    "language_info": {
      "name": "python"
    }
  },
  "cells": [
    {
      "cell_type": "code",
      "metadata": {
        "colab": {
          "base_uri": "https://localhost:8080/"
        },
        "id": "1U1LlCx67ZfD",
        "outputId": "f2500787-226e-4fdb-a0a0-a19ddc02419d"
      },
      "source": [
        "import numpy as np # linear algebra\n",
        "import pandas as pd # data processing, CSV file I/O (e.g. pd.read_csv)\n",
        "import matplotlib.pyplot as plt\n",
        "import seaborn as sns \n",
        "from scipy import stats\n",
        "\n",
        "from tensorflow.python.keras.models import Sequential\n",
        "from tensorflow.python.keras.layers import Dense, Embedding,LSTM\n",
        "from tensorflow.python.keras.preprocessing.text import Tokenizer\n",
        "from keras.optimizers import Adam\n",
        "from keras.layers import Dropout\n",
        "from tensorflow.python.keras.preprocessing.sequence import pad_sequences\n",
        "from tensorflow.python.keras.models import load_model\n",
        "from sklearn.model_selection import train_test_split\n",
        "import re\n",
        "import nltk \n",
        "nltk.download(\"stopwords\")\n",
        "nltk.download(\"punkt\")\n",
        "from nltk.corpus import stopwords\n",
        "nltk.download('punkt')\n",
        "\n",
        "# Input data files are available in the read-only \"../input/\" directory\n",
        "# For example, running this (by clicking run or pressing Shift+Enter) will list all files under the input directory\n",
        "# warning library\n",
        "import warnings\n",
        "warnings.filterwarnings(\"ignore\")"
      ],
      "execution_count": null,
      "outputs": [
        {
          "output_type": "stream",
          "text": [
            "[nltk_data] Downloading package stopwords to /root/nltk_data...\n",
            "[nltk_data]   Package stopwords is already up-to-date!\n",
            "[nltk_data] Downloading package punkt to /root/nltk_data...\n",
            "[nltk_data]   Package punkt is already up-to-date!\n",
            "[nltk_data] Downloading package punkt to /root/nltk_data...\n",
            "[nltk_data]   Package punkt is already up-to-date!\n"
          ],
          "name": "stdout"
        }
      ]
    },
    {
      "cell_type": "code",
      "metadata": {
        "id": "rml8UYzk7hL_",
        "colab": {
          "base_uri": "https://localhost:8080/"
        },
        "outputId": "daaa2d0f-e43f-442b-a163-6961e2cacd9f"
      },
      "source": [
        "from google.colab import drive\n",
        "drive.mount('/content/drive')"
      ],
      "execution_count": null,
      "outputs": [
        {
          "output_type": "stream",
          "text": [
            "Drive already mounted at /content/drive; to attempt to forcibly remount, call drive.mount(\"/content/drive\", force_remount=True).\n"
          ],
          "name": "stdout"
        }
      ]
    },
    {
      "cell_type": "markdown",
      "metadata": {
        "id": "kred9iCy05Re"
      },
      "source": [
        "### Read the csv file"
      ]
    },
    {
      "cell_type": "code",
      "metadata": {
        "id": "7Dy9KZ8I7hOK"
      },
      "source": [
        "data = pd.read_csv(\"/content/drive/MyDrive/ebay_reviews.csv\")"
      ],
      "execution_count": null,
      "outputs": []
    },
    {
      "cell_type": "code",
      "metadata": {
        "colab": {
          "base_uri": "https://localhost:8080/",
          "height": 196
        },
        "id": "xlrZykcu7hQL",
        "outputId": "13716f73-b257-4908-a7f8-bcbe1c94fbaf"
      },
      "source": [
        "data.head()"
      ],
      "execution_count": null,
      "outputs": [
        {
          "output_type": "execute_result",
          "data": {
            "text/html": [
              "<div>\n",
              "<style scoped>\n",
              "    .dataframe tbody tr th:only-of-type {\n",
              "        vertical-align: middle;\n",
              "    }\n",
              "\n",
              "    .dataframe tbody tr th {\n",
              "        vertical-align: top;\n",
              "    }\n",
              "\n",
              "    .dataframe thead th {\n",
              "        text-align: right;\n",
              "    }\n",
              "</style>\n",
              "<table border=\"1\" class=\"dataframe\">\n",
              "  <thead>\n",
              "    <tr style=\"text-align: right;\">\n",
              "      <th></th>\n",
              "      <th>category</th>\n",
              "      <th>review title</th>\n",
              "      <th>review content</th>\n",
              "      <th>rating</th>\n",
              "    </tr>\n",
              "  </thead>\n",
              "  <tbody>\n",
              "    <tr>\n",
              "      <th>0</th>\n",
              "      <td>Headsets</td>\n",
              "      <td>Wireless gaming headset</td>\n",
              "      <td>This gaming headset ticks all the boxes # look...</td>\n",
              "      <td>5</td>\n",
              "    </tr>\n",
              "    <tr>\n",
              "      <th>1</th>\n",
              "      <td>Headsets</td>\n",
              "      <td>Good for those with a big head, low budget</td>\n",
              "      <td>Easy setup, rated for 6 hours battery but mine...</td>\n",
              "      <td>3</td>\n",
              "    </tr>\n",
              "    <tr>\n",
              "      <th>2</th>\n",
              "      <td>Headsets</td>\n",
              "      <td>MezumiWireless Gaming Headset</td>\n",
              "      <td>I originally bought this wireless headset for ...</td>\n",
              "      <td>5</td>\n",
              "    </tr>\n",
              "    <tr>\n",
              "      <th>3</th>\n",
              "      <td>Headsets</td>\n",
              "      <td>HW- S2 great headset.</td>\n",
              "      <td>This is my 2nd Mezumi headset, It kills the fi...</td>\n",
              "      <td>5</td>\n",
              "    </tr>\n",
              "    <tr>\n",
              "      <th>4</th>\n",
              "      <td>Headsets</td>\n",
              "      <td>BEST HEADPHONES I'VE PURCHASED IN MY ENTIRE LIFE</td>\n",
              "      <td>This is probably the best headset I've purchas...</td>\n",
              "      <td>5</td>\n",
              "    </tr>\n",
              "  </tbody>\n",
              "</table>\n",
              "</div>"
            ],
            "text/plain": [
              "   category  ... rating\n",
              "0  Headsets  ...      5\n",
              "1  Headsets  ...      3\n",
              "2  Headsets  ...      5\n",
              "3  Headsets  ...      5\n",
              "4  Headsets  ...      5\n",
              "\n",
              "[5 rows x 4 columns]"
            ]
          },
          "metadata": {
            "tags": []
          },
          "execution_count": 43
        }
      ]
    },
    {
      "cell_type": "code",
      "metadata": {
        "colab": {
          "base_uri": "https://localhost:8080/"
        },
        "id": "-SPmOEAn7hSL",
        "outputId": "2bbadd28-0a65-4116-f5e9-8616a8df866d"
      },
      "source": [
        "# the columns \n",
        "data.columns"
      ],
      "execution_count": null,
      "outputs": [
        {
          "output_type": "execute_result",
          "data": {
            "text/plain": [
              "Index(['category', 'review title', 'review content', 'rating'], dtype='object')"
            ]
          },
          "metadata": {
            "tags": []
          },
          "execution_count": 44
        }
      ]
    },
    {
      "cell_type": "markdown",
      "metadata": {
        "id": "-kpHVPoEBAvy"
      },
      "source": [
        "Drop unnecessary Columns"
      ]
    },
    {
      "cell_type": "code",
      "metadata": {
        "colab": {
          "base_uri": "https://localhost:8080/",
          "height": 196
        },
        "id": "t3LECzDc7hT8",
        "outputId": "4f464ea5-8421-4bd8-8b72-cdaaa1a341fd"
      },
      "source": [
        "data = data.drop(columns=[\"category\",\"review title\"])\n",
        "data.head()"
      ],
      "execution_count": null,
      "outputs": [
        {
          "output_type": "execute_result",
          "data": {
            "text/html": [
              "<div>\n",
              "<style scoped>\n",
              "    .dataframe tbody tr th:only-of-type {\n",
              "        vertical-align: middle;\n",
              "    }\n",
              "\n",
              "    .dataframe tbody tr th {\n",
              "        vertical-align: top;\n",
              "    }\n",
              "\n",
              "    .dataframe thead th {\n",
              "        text-align: right;\n",
              "    }\n",
              "</style>\n",
              "<table border=\"1\" class=\"dataframe\">\n",
              "  <thead>\n",
              "    <tr style=\"text-align: right;\">\n",
              "      <th></th>\n",
              "      <th>review content</th>\n",
              "      <th>rating</th>\n",
              "    </tr>\n",
              "  </thead>\n",
              "  <tbody>\n",
              "    <tr>\n",
              "      <th>0</th>\n",
              "      <td>This gaming headset ticks all the boxes # look...</td>\n",
              "      <td>5</td>\n",
              "    </tr>\n",
              "    <tr>\n",
              "      <th>1</th>\n",
              "      <td>Easy setup, rated for 6 hours battery but mine...</td>\n",
              "      <td>3</td>\n",
              "    </tr>\n",
              "    <tr>\n",
              "      <th>2</th>\n",
              "      <td>I originally bought this wireless headset for ...</td>\n",
              "      <td>5</td>\n",
              "    </tr>\n",
              "    <tr>\n",
              "      <th>3</th>\n",
              "      <td>This is my 2nd Mezumi headset, It kills the fi...</td>\n",
              "      <td>5</td>\n",
              "    </tr>\n",
              "    <tr>\n",
              "      <th>4</th>\n",
              "      <td>This is probably the best headset I've purchas...</td>\n",
              "      <td>5</td>\n",
              "    </tr>\n",
              "  </tbody>\n",
              "</table>\n",
              "</div>"
            ],
            "text/plain": [
              "                                      review content  rating\n",
              "0  This gaming headset ticks all the boxes # look...       5\n",
              "1  Easy setup, rated for 6 hours battery but mine...       3\n",
              "2  I originally bought this wireless headset for ...       5\n",
              "3  This is my 2nd Mezumi headset, It kills the fi...       5\n",
              "4  This is probably the best headset I've purchas...       5"
            ]
          },
          "metadata": {
            "tags": []
          },
          "execution_count": 45
        }
      ]
    },
    {
      "cell_type": "code",
      "metadata": {
        "colab": {
          "base_uri": "https://localhost:8080/"
        },
        "id": "uTaAPFGV7hV7",
        "outputId": "1e698849-0e2a-4aad-c18e-471e0d4cadff"
      },
      "source": [
        "# we are looking at the size of our data.\n",
        "data.shape"
      ],
      "execution_count": null,
      "outputs": [
        {
          "output_type": "execute_result",
          "data": {
            "text/plain": [
              "(44756, 2)"
            ]
          },
          "metadata": {
            "tags": []
          },
          "execution_count": 46
        }
      ]
    },
    {
      "cell_type": "code",
      "metadata": {
        "colab": {
          "base_uri": "https://localhost:8080/"
        },
        "id": "SwnrQyR17hX2",
        "outputId": "46782d06-4a32-4656-9d35-d6249b22735c"
      },
      "source": [
        "data.info()"
      ],
      "execution_count": null,
      "outputs": [
        {
          "output_type": "stream",
          "text": [
            "<class 'pandas.core.frame.DataFrame'>\n",
            "RangeIndex: 44756 entries, 0 to 44755\n",
            "Data columns (total 2 columns):\n",
            " #   Column          Non-Null Count  Dtype \n",
            "---  ------          --------------  ----- \n",
            " 0   review content  44756 non-null  object\n",
            " 1   rating          44756 non-null  int64 \n",
            "dtypes: int64(1), object(1)\n",
            "memory usage: 699.4+ KB\n"
          ],
          "name": "stdout"
        }
      ]
    },
    {
      "cell_type": "code",
      "metadata": {
        "colab": {
          "base_uri": "https://localhost:8080/",
          "height": 286
        },
        "id": "N1BeSARw7hZ4",
        "outputId": "ad13b042-1a8f-4149-eeaf-544b20081753"
      },
      "source": [
        "# statistical summary of our data\n",
        "data.describe()"
      ],
      "execution_count": null,
      "outputs": [
        {
          "output_type": "execute_result",
          "data": {
            "text/html": [
              "<div>\n",
              "<style scoped>\n",
              "    .dataframe tbody tr th:only-of-type {\n",
              "        vertical-align: middle;\n",
              "    }\n",
              "\n",
              "    .dataframe tbody tr th {\n",
              "        vertical-align: top;\n",
              "    }\n",
              "\n",
              "    .dataframe thead th {\n",
              "        text-align: right;\n",
              "    }\n",
              "</style>\n",
              "<table border=\"1\" class=\"dataframe\">\n",
              "  <thead>\n",
              "    <tr style=\"text-align: right;\">\n",
              "      <th></th>\n",
              "      <th>rating</th>\n",
              "    </tr>\n",
              "  </thead>\n",
              "  <tbody>\n",
              "    <tr>\n",
              "      <th>count</th>\n",
              "      <td>44756.000000</td>\n",
              "    </tr>\n",
              "    <tr>\n",
              "      <th>mean</th>\n",
              "      <td>4.656337</td>\n",
              "    </tr>\n",
              "    <tr>\n",
              "      <th>std</th>\n",
              "      <td>0.847600</td>\n",
              "    </tr>\n",
              "    <tr>\n",
              "      <th>min</th>\n",
              "      <td>1.000000</td>\n",
              "    </tr>\n",
              "    <tr>\n",
              "      <th>25%</th>\n",
              "      <td>5.000000</td>\n",
              "    </tr>\n",
              "    <tr>\n",
              "      <th>50%</th>\n",
              "      <td>5.000000</td>\n",
              "    </tr>\n",
              "    <tr>\n",
              "      <th>75%</th>\n",
              "      <td>5.000000</td>\n",
              "    </tr>\n",
              "    <tr>\n",
              "      <th>max</th>\n",
              "      <td>5.000000</td>\n",
              "    </tr>\n",
              "  </tbody>\n",
              "</table>\n",
              "</div>"
            ],
            "text/plain": [
              "             rating\n",
              "count  44756.000000\n",
              "mean       4.656337\n",
              "std        0.847600\n",
              "min        1.000000\n",
              "25%        5.000000\n",
              "50%        5.000000\n",
              "75%        5.000000\n",
              "max        5.000000"
            ]
          },
          "metadata": {
            "tags": []
          },
          "execution_count": 48
        }
      ]
    },
    {
      "cell_type": "markdown",
      "metadata": {
        "id": "oHcu6mjxBz7v"
      },
      "source": [
        "### Converting the rating to Positive or Negative"
      ]
    },
    {
      "cell_type": "code",
      "metadata": {
        "id": "dHMYVrLY7hbr"
      },
      "source": [
        "def f(row):\n",
        "    \n",
        "    '''This function returns sentiment value based on the overall ratings from the user'''\n",
        "    \n",
        "    if row['rating'] == 1 or row['rating']  == 2 or row['rating'] == 3:\n",
        "        val = 'Negative'\n",
        "    elif row['rating'] == 4 or row['rating'] == 5  :\n",
        "        val = 'Positive'\n",
        "    else:\n",
        "        val = -1\n",
        "    return val"
      ],
      "execution_count": null,
      "outputs": []
    },
    {
      "cell_type": "markdown",
      "metadata": {
        "id": "pFPZuEfYCNow"
      },
      "source": [
        "### Applying the function in our new column"
      ]
    },
    {
      "cell_type": "code",
      "metadata": {
        "colab": {
          "base_uri": "https://localhost:8080/",
          "height": 196
        },
        "id": "2QQo3Dfp7hdk",
        "outputId": "33c0b403-922b-4ca5-bf10-e81d9bcb4cd2"
      },
      "source": [
        "data['sentiment'] = data.apply(f, axis=1)\n",
        "data.head()"
      ],
      "execution_count": null,
      "outputs": [
        {
          "output_type": "execute_result",
          "data": {
            "text/html": [
              "<div>\n",
              "<style scoped>\n",
              "    .dataframe tbody tr th:only-of-type {\n",
              "        vertical-align: middle;\n",
              "    }\n",
              "\n",
              "    .dataframe tbody tr th {\n",
              "        vertical-align: top;\n",
              "    }\n",
              "\n",
              "    .dataframe thead th {\n",
              "        text-align: right;\n",
              "    }\n",
              "</style>\n",
              "<table border=\"1\" class=\"dataframe\">\n",
              "  <thead>\n",
              "    <tr style=\"text-align: right;\">\n",
              "      <th></th>\n",
              "      <th>review content</th>\n",
              "      <th>rating</th>\n",
              "      <th>sentiment</th>\n",
              "    </tr>\n",
              "  </thead>\n",
              "  <tbody>\n",
              "    <tr>\n",
              "      <th>0</th>\n",
              "      <td>This gaming headset ticks all the boxes # look...</td>\n",
              "      <td>5</td>\n",
              "      <td>Positive</td>\n",
              "    </tr>\n",
              "    <tr>\n",
              "      <th>1</th>\n",
              "      <td>Easy setup, rated for 6 hours battery but mine...</td>\n",
              "      <td>3</td>\n",
              "      <td>Negative</td>\n",
              "    </tr>\n",
              "    <tr>\n",
              "      <th>2</th>\n",
              "      <td>I originally bought this wireless headset for ...</td>\n",
              "      <td>5</td>\n",
              "      <td>Positive</td>\n",
              "    </tr>\n",
              "    <tr>\n",
              "      <th>3</th>\n",
              "      <td>This is my 2nd Mezumi headset, It kills the fi...</td>\n",
              "      <td>5</td>\n",
              "      <td>Positive</td>\n",
              "    </tr>\n",
              "    <tr>\n",
              "      <th>4</th>\n",
              "      <td>This is probably the best headset I've purchas...</td>\n",
              "      <td>5</td>\n",
              "      <td>Positive</td>\n",
              "    </tr>\n",
              "  </tbody>\n",
              "</table>\n",
              "</div>"
            ],
            "text/plain": [
              "                                      review content  rating sentiment\n",
              "0  This gaming headset ticks all the boxes # look...       5  Positive\n",
              "1  Easy setup, rated for 6 hours battery but mine...       3  Negative\n",
              "2  I originally bought this wireless headset for ...       5  Positive\n",
              "3  This is my 2nd Mezumi headset, It kills the fi...       5  Positive\n",
              "4  This is probably the best headset I've purchas...       5  Positive"
            ]
          },
          "metadata": {
            "tags": []
          },
          "execution_count": 50
        }
      ]
    },
    {
      "cell_type": "code",
      "metadata": {
        "colab": {
          "base_uri": "https://localhost:8080/",
          "height": 329
        },
        "id": "FiG0k3cf7hfX",
        "outputId": "827d58d8-de09-4a09-88d2-557edec8e8e1"
      },
      "source": [
        "sns.countplot(data[\"sentiment\"], palette = [\"green\",\"red\"])\n",
        "plt.show()\n",
        "print(data.sentiment.value_counts())"
      ],
      "execution_count": null,
      "outputs": [
        {
          "output_type": "display_data",
          "data": {
            "image/png": "[encoded data removed]",
            "text/plain": [
              "<Figure size 432x288 with 1 Axes>"
            ]
          },
          "metadata": {
            "tags": [],
            "needs_background": "light"
          }
        },
        {
          "output_type": "stream",
          "text": [
            "Positive    41442\n",
            "Negative     3314\n",
            "Name: sentiment, dtype: int64\n"
          ],
          "name": "stdout"
        }
      ]
    },
    {
      "cell_type": "code",
      "metadata": {
        "colab": {
          "base_uri": "https://localhost:8080/",
          "height": 644
        },
        "id": "fO4X_6O57hha",
        "outputId": "b4414134-c05a-4d07-9031-ebec018adf27"
      },
      "source": [
        "data.head(20)"
      ],
      "execution_count": null,
      "outputs": [
        {
          "output_type": "execute_result",
          "data": {
            "text/html": [
              "<div>\n",
              "<style scoped>\n",
              "    .dataframe tbody tr th:only-of-type {\n",
              "        vertical-align: middle;\n",
              "    }\n",
              "\n",
              "    .dataframe tbody tr th {\n",
              "        vertical-align: top;\n",
              "    }\n",
              "\n",
              "    .dataframe thead th {\n",
              "        text-align: right;\n",
              "    }\n",
              "</style>\n",
              "<table border=\"1\" class=\"dataframe\">\n",
              "  <thead>\n",
              "    <tr style=\"text-align: right;\">\n",
              "      <th></th>\n",
              "      <th>review content</th>\n",
              "      <th>rating</th>\n",
              "      <th>sentiment</th>\n",
              "    </tr>\n",
              "  </thead>\n",
              "  <tbody>\n",
              "    <tr>\n",
              "      <th>0</th>\n",
              "      <td>This gaming headset ticks all the boxes # look...</td>\n",
              "      <td>5</td>\n",
              "      <td>Positive</td>\n",
              "    </tr>\n",
              "    <tr>\n",
              "      <th>1</th>\n",
              "      <td>Easy setup, rated for 6 hours battery but mine...</td>\n",
              "      <td>3</td>\n",
              "      <td>Negative</td>\n",
              "    </tr>\n",
              "    <tr>\n",
              "      <th>2</th>\n",
              "      <td>I originally bought this wireless headset for ...</td>\n",
              "      <td>5</td>\n",
              "      <td>Positive</td>\n",
              "    </tr>\n",
              "    <tr>\n",
              "      <th>3</th>\n",
              "      <td>This is my 2nd Mezumi headset, It kills the fi...</td>\n",
              "      <td>5</td>\n",
              "      <td>Positive</td>\n",
              "    </tr>\n",
              "    <tr>\n",
              "      <th>4</th>\n",
              "      <td>This is probably the best headset I've purchas...</td>\n",
              "      <td>5</td>\n",
              "      <td>Positive</td>\n",
              "    </tr>\n",
              "    <tr>\n",
              "      <th>5</th>\n",
              "      <td>This headsert is great for the value! I recent...</td>\n",
              "      <td>5</td>\n",
              "      <td>Positive</td>\n",
              "    </tr>\n",
              "    <tr>\n",
              "      <th>6</th>\n",
              "      <td>Happy with product , as described</td>\n",
              "      <td>4</td>\n",
              "      <td>Positive</td>\n",
              "    </tr>\n",
              "    <tr>\n",
              "      <th>7</th>\n",
              "      <td>Verified purchase:  Yes | Condition: new | Sol...</td>\n",
              "      <td>5</td>\n",
              "      <td>Positive</td>\n",
              "    </tr>\n",
              "    <tr>\n",
              "      <th>8</th>\n",
              "      <td>All good, product as described</td>\n",
              "      <td>5</td>\n",
              "      <td>Positive</td>\n",
              "    </tr>\n",
              "    <tr>\n",
              "      <th>9</th>\n",
              "      <td>no issues, good distance on blutooth, clear au...</td>\n",
              "      <td>5</td>\n",
              "      <td>Positive</td>\n",
              "    </tr>\n",
              "    <tr>\n",
              "      <th>10</th>\n",
              "      <td>Christmas present have been able to use it yet</td>\n",
              "      <td>4</td>\n",
              "      <td>Positive</td>\n",
              "    </tr>\n",
              "    <tr>\n",
              "      <th>11</th>\n",
              "      <td>These are great Headphones with a very nice cr...</td>\n",
              "      <td>5</td>\n",
              "      <td>Positive</td>\n",
              "    </tr>\n",
              "    <tr>\n",
              "      <th>12</th>\n",
              "      <td>This headset looks great. Most kids will twist...</td>\n",
              "      <td>5</td>\n",
              "      <td>Positive</td>\n",
              "    </tr>\n",
              "    <tr>\n",
              "      <th>13</th>\n",
              "      <td>Wont go wireless for xbox one, other than that...</td>\n",
              "      <td>4</td>\n",
              "      <td>Positive</td>\n",
              "    </tr>\n",
              "    <tr>\n",
              "      <th>14</th>\n",
              "      <td>Good sound but mic isn’t great, teammates some...</td>\n",
              "      <td>3</td>\n",
              "      <td>Negative</td>\n",
              "    </tr>\n",
              "    <tr>\n",
              "      <th>15</th>\n",
              "      <td>Correct specification and excellent performance</td>\n",
              "      <td>5</td>\n",
              "      <td>Positive</td>\n",
              "    </tr>\n",
              "    <tr>\n",
              "      <th>16</th>\n",
              "      <td>I find them very comfortable and they have gre...</td>\n",
              "      <td>5</td>\n",
              "      <td>Positive</td>\n",
              "    </tr>\n",
              "    <tr>\n",
              "      <th>17</th>\n",
              "      <td>Honestly great quality and reasonably priced. ...</td>\n",
              "      <td>5</td>\n",
              "      <td>Positive</td>\n",
              "    </tr>\n",
              "    <tr>\n",
              "      <th>18</th>\n",
              "      <td>not working</td>\n",
              "      <td>2</td>\n",
              "      <td>Negative</td>\n",
              "    </tr>\n",
              "    <tr>\n",
              "      <th>19</th>\n",
              "      <td>Verified purchase:  Yes | Condition: new | Sol...</td>\n",
              "      <td>5</td>\n",
              "      <td>Positive</td>\n",
              "    </tr>\n",
              "  </tbody>\n",
              "</table>\n",
              "</div>"
            ],
            "text/plain": [
              "                                       review content  rating sentiment\n",
              "0   This gaming headset ticks all the boxes # look...       5  Positive\n",
              "1   Easy setup, rated for 6 hours battery but mine...       3  Negative\n",
              "2   I originally bought this wireless headset for ...       5  Positive\n",
              "3   This is my 2nd Mezumi headset, It kills the fi...       5  Positive\n",
              "4   This is probably the best headset I've purchas...       5  Positive\n",
              "5   This headsert is great for the value! I recent...       5  Positive\n",
              "6                   Happy with product , as described       4  Positive\n",
              "7   Verified purchase:  Yes | Condition: new | Sol...       5  Positive\n",
              "8                      All good, product as described       5  Positive\n",
              "9   no issues, good distance on blutooth, clear au...       5  Positive\n",
              "10     Christmas present have been able to use it yet       4  Positive\n",
              "11  These are great Headphones with a very nice cr...       5  Positive\n",
              "12  This headset looks great. Most kids will twist...       5  Positive\n",
              "13  Wont go wireless for xbox one, other than that...       4  Positive\n",
              "14  Good sound but mic isn’t great, teammates some...       3  Negative\n",
              "15    Correct specification and excellent performance       5  Positive\n",
              "16  I find them very comfortable and they have gre...       5  Positive\n",
              "17  Honestly great quality and reasonably priced. ...       5  Positive\n",
              "18                                        not working       2  Negative\n",
              "19  Verified purchase:  Yes | Condition: new | Sol...       5  Positive"
            ]
          },
          "metadata": {
            "tags": []
          },
          "execution_count": 52
        }
      ]
    },
    {
      "cell_type": "markdown",
      "metadata": {
        "id": "gpiKlZ5GCdE1"
      },
      "source": [
        "### Removing Punctuation and Brackets and etc."
      ]
    },
    {
      "cell_type": "code",
      "metadata": {
        "id": "-lkx4ipl7hjb"
      },
      "source": [
        "WPT = nltk.WordPunctTokenizer()\n",
        "stop_word_list = nltk.corpus.stopwords.words('english')\n",
        "#stop_word_list"
      ],
      "execution_count": null,
      "outputs": []
    },
    {
      "cell_type": "code",
      "metadata": {
        "colab": {
          "base_uri": "https://localhost:8080/",
          "height": 35
        },
        "id": "LN66KiSi7hlW",
        "outputId": "c4c54ca5-b83a-4364-ba8c-80a6148567f9"
      },
      "source": [
        "data['review content'] = data['review content'].apply(lambda x: re.sub('[,\\.!?:()\"]', '', x))\n",
        "data['review content'] = data['review content'].apply(lambda x: re.sub('[^a-zA-Z\"]', ' ', x))\n",
        "\n",
        "data['review content'] = data['review content'].apply(lambda x: x.lower())\n",
        "\n",
        "data['review content'] = data['review content'].apply(lambda x: x.strip())\n",
        "\n",
        "\"\"\"\n",
        "I closed the stopword process because it took a long time.\n",
        "If you want, you can try opening the codes in the comment line.\n",
        "\"\"\"\n",
        "#def token(values):\n",
        "   # words = nltk.tokenize.word_tokenize(values)\n",
        "    #filtered_words = [word for word in words if word not in set(stopwords.words(\"english\"))]\n",
        "    #not_stopword_doc = \" \".join(filtered_words)\n",
        "    #return not_stopword_doc\n",
        "#data['review content'] = data['review content'].apply(lambda x: token(x))"
      ],
      "execution_count": null,
      "outputs": [
        {
          "output_type": "execute_result",
          "data": {
            "application/vnd.google.colaboratory.intrinsic+json": {
              "type": "string"
            },
            "text/plain": [
              "'\\nI closed the stopword process because it took a long time.\\nIf you want, you can try opening the codes in the comment line.\\n'"
            ]
          },
          "metadata": {
            "tags": []
          },
          "execution_count": 54
        }
      ]
    },
    {
      "cell_type": "code",
      "metadata": {
        "id": "FrVwrpJl7hpd"
      },
      "source": [
        "from sklearn.feature_extraction.text import CountVectorizer"
      ],
      "execution_count": null,
      "outputs": []
    },
    {
      "cell_type": "markdown",
      "metadata": {
        "id": "S4UJbeHmn5RE"
      },
      "source": [
        "### Logistic Regression"
      ]
    },
    {
      "cell_type": "code",
      "metadata": {
        "id": "GFpoiI8A7hnX"
      },
      "source": [
        "from sklearn.linear_model import LogisticRegression"
      ],
      "execution_count": null,
      "outputs": []
    },
    {
      "cell_type": "code",
      "metadata": {
        "colab": {
          "base_uri": "https://localhost:8080/"
        },
        "id": "yBL2vnYc7hrX",
        "outputId": "6c5e1cd6-231c-4e6c-a882-eed3f29b0555"
      },
      "source": [
        "Vectorizer = CountVectorizer()\n",
        "Model = LogisticRegression(max_iter = 4000)\n",
        "\n",
        "x = data['review content']\n",
        "y = data['sentiment']\n",
        "y.value_counts()"
      ],
      "execution_count": null,
      "outputs": [
        {
          "output_type": "execute_result",
          "data": {
            "text/plain": [
              "Positive    41442\n",
              "Negative     3314\n",
              "Name: sentiment, dtype: int64"
            ]
          },
          "metadata": {
            "tags": []
          },
          "execution_count": 57
        }
      ]
    },
    {
      "cell_type": "markdown",
      "metadata": {
        "id": "DZMFHaR0m-Nd"
      },
      "source": [
        "### Applying Random Under Sampler"
      ]
    },
    {
      "cell_type": "code",
      "metadata": {
        "id": "qQ_pQfes7htZ"
      },
      "source": [
        "from imblearn.under_sampling import RandomUnderSampler"
      ],
      "execution_count": null,
      "outputs": []
    },
    {
      "cell_type": "code",
      "metadata": {
        "colab": {
          "base_uri": "https://localhost:8080/"
        },
        "id": "KRZET9pr7hvX",
        "outputId": "bf74bb73-0e55-4d7f-ad2f-e77e8d58136d"
      },
      "source": [
        "rus = RandomUnderSampler()\n",
        "y = np.array(y)\n",
        "x = np.array(x)\n",
        "y = np.reshape(y, (-1,1))\n",
        "x = np.reshape(x, (-1,1))\n",
        "x_r, y_r = rus.fit_resample(x, y)\n",
        "print(len(y_r))"
      ],
      "execution_count": null,
      "outputs": [
        {
          "output_type": "stream",
          "text": [
            "6628\n"
          ],
          "name": "stdout"
        }
      ]
    },
    {
      "cell_type": "markdown",
      "metadata": {
        "id": "fsZgEY7DnHzI"
      },
      "source": [
        "### Train Test Split the data"
      ]
    },
    {
      "cell_type": "code",
      "metadata": {
        "colab": {
          "base_uri": "https://localhost:8080/"
        },
        "id": "Im7vYZhI7hzQ",
        "outputId": "a7592788-6657-4ca4-ed80-537e4a64f06a"
      },
      "source": [
        "x_train, x_test, y_train, y_test = train_test_split(x_r,y_r)\n",
        "x_test = x_test.reshape(-1)\n",
        "x_train = Vectorizer.fit_transform(x_train.reshape(-1))\n",
        "x_test = Vectorizer.transform(x_test)\n",
        "Model.fit(x_train, y_train)"
      ],
      "execution_count": null,
      "outputs": [
        {
          "output_type": "execute_result",
          "data": {
            "text/plain": [
              "LogisticRegression(C=1.0, class_weight=None, dual=False, fit_intercept=True,\n",
              "                   intercept_scaling=1, l1_ratio=None, max_iter=4000,\n",
              "                   multi_class='auto', n_jobs=None, penalty='l2',\n",
              "                   random_state=None, solver='lbfgs', tol=0.0001, verbose=0,\n",
              "                   warm_start=False)"
            ]
          },
          "metadata": {
            "tags": []
          },
          "execution_count": 60
        }
      ]
    },
    {
      "cell_type": "code",
      "metadata": {
        "id": "BLyS94iA7hxX"
      },
      "source": [
        "from sklearn.metrics import accuracy_score, confusion_matrix"
      ],
      "execution_count": null,
      "outputs": []
    },
    {
      "cell_type": "code",
      "metadata": {
        "colab": {
          "base_uri": "https://localhost:8080/"
        },
        "id": "7sftNqquspmN",
        "outputId": "40c15afc-dbe4-4e1b-9499-3cc2b0decdd9"
      },
      "source": [
        "result = Model.predict(x_test)\n",
        "print(confusion_matrix(y_test, result))"
      ],
      "execution_count": null,
      "outputs": [
        {
          "output_type": "stream",
          "text": [
            "[[662 177]\n",
            " [126 692]]\n"
          ],
          "name": "stdout"
        }
      ]
    },
    {
      "cell_type": "code",
      "metadata": {
        "colab": {
          "base_uri": "https://localhost:8080/"
        },
        "id": "aRCds5rCsqtF",
        "outputId": "78fce84f-cce6-47cb-9238-13363fe313ed"
      },
      "source": [
        "accuracy = accuracy_score(y_test, result)\n",
        "print(accuracy)"
      ],
      "execution_count": null,
      "outputs": [
        {
          "output_type": "stream",
          "text": [
            "0.8171394085697042\n"
          ],
          "name": "stdout"
        }
      ]
    },
    {
      "cell_type": "markdown",
      "metadata": {
        "id": "g-UVUXNroO8O"
      },
      "source": [
        "### Test the Model"
      ]
    },
    {
      "cell_type": "code",
      "metadata": {
        "colab": {
          "base_uri": "https://localhost:8080/"
        },
        "id": "i8NjeqJb7h1U",
        "outputId": "e9c466c4-b89c-41ee-d6ef-8fc61d4a22f8"
      },
      "source": [
        "pred1 = Model.predict(Vectorizer.transform([\"Do not buy it. Horrible product\"]))\n",
        "pred2 = Model.predict(Vectorizer.transform([\"This is probably the best thing i have ever bought\"]))\n",
        "pred3 = Model.predict(Vectorizer.transform([\"It works fine! Thank you!\"]))\n",
        "pred4 = Model.predict(Vectorizer.transform([\"Many disadvantages, i do not recommend it\"]))\n",
        "pred5 = Model.predict(Vectorizer.transform([\"My delivery is 2 months delayed. Pure lack of profissionalism\"]))\n",
        "pred6 = Model.predict(Vectorizer.transform([\"Excellent product!\"]))\n",
        "\n",
        "print(pred1, pred2, pred3, pred4, pred5, pred6)"
      ],
      "execution_count": null,
      "outputs": [
        {
          "output_type": "stream",
          "text": [
            "['Negative'] ['Positive'] ['Positive'] ['Positive'] ['Negative'] ['Positive']\n"
          ],
          "name": "stdout"
        }
      ]
    },
    {
      "cell_type": "markdown",
      "metadata": {
        "id": "C1TrTINYoY-X"
      },
      "source": [
        "### Multinomial Naive Bayes"
      ]
    },
    {
      "cell_type": "code",
      "metadata": {
        "id": "S_QXWE1T7h3W"
      },
      "source": [
        "from sklearn.naive_bayes import MultinomialNB \n",
        "from sklearn.metrics import accuracy_score , classification_report , confusion_matrix\n",
        "import pickle\n",
        "import seaborn as sns"
      ],
      "execution_count": null,
      "outputs": []
    },
    {
      "cell_type": "code",
      "metadata": {
        "colab": {
          "base_uri": "https://localhost:8080/"
        },
        "id": "ay-fTIpi8iXi",
        "outputId": "650fff68-bf0b-42c9-8540-a698bf9c90b2"
      },
      "source": [
        "mnb = MultinomialNB()\n",
        "mnb.fit(x_train , y_train)"
      ],
      "execution_count": null,
      "outputs": [
        {
          "output_type": "execute_result",
          "data": {
            "text/plain": [
              "MultinomialNB(alpha=1.0, class_prior=None, fit_prior=True)"
            ]
          },
          "metadata": {
            "tags": []
          },
          "execution_count": 67
        }
      ]
    },
    {
      "cell_type": "code",
      "metadata": {
        "id": "yPxvezGf8iZ6"
      },
      "source": [
        "pred = mnb.predict(x_test)"
      ],
      "execution_count": null,
      "outputs": []
    },
    {
      "cell_type": "code",
      "metadata": {
        "colab": {
          "base_uri": "https://localhost:8080/"
        },
        "id": "Zw2qxucR8icA",
        "outputId": "7e18217d-6332-41a1-ce12-d5680f30cc76"
      },
      "source": [
        "print(accuracy_score(y_test , pred))"
      ],
      "execution_count": null,
      "outputs": [
        {
          "output_type": "stream",
          "text": [
            "0.8298129149064575\n"
          ],
          "name": "stdout"
        }
      ]
    },
    {
      "cell_type": "code",
      "metadata": {
        "id": "JE85n2HKvSP7",
        "colab": {
          "base_uri": "https://localhost:8080/"
        },
        "outputId": "6d781867-786f-4393-8048-0cff6bc59bc6"
      },
      "source": [
        "print(confusion_matrix(y_test , pred))\n"
      ],
      "execution_count": null,
      "outputs": [
        {
          "output_type": "stream",
          "text": [
            "[[705 134]\n",
            " [148 670]]\n"
          ],
          "name": "stdout"
        }
      ]
    },
    {
      "cell_type": "code",
      "metadata": {
        "id": "TTjgVQpGvUfg",
        "colab": {
          "base_uri": "https://localhost:8080/"
        },
        "outputId": "fc22b926-086f-4d8b-b1e8-1d0cac194f2b"
      },
      "source": [
        "print(classification_report(y_test , pred))"
      ],
      "execution_count": null,
      "outputs": [
        {
          "output_type": "stream",
          "text": [
            "              precision    recall  f1-score   support\n",
            "\n",
            "    Negative       0.83      0.84      0.83       839\n",
            "    Positive       0.83      0.82      0.83       818\n",
            "\n",
            "    accuracy                           0.83      1657\n",
            "   macro avg       0.83      0.83      0.83      1657\n",
            "weighted avg       0.83      0.83      0.83      1657\n",
            "\n"
          ],
          "name": "stdout"
        }
      ]
    },
    {
      "cell_type": "code",
      "metadata": {
        "colab": {
          "base_uri": "https://localhost:8080/",
          "height": 404
        },
        "id": "CDUvu7Qr8ieA",
        "outputId": "c8d2ded8-5cf9-4d3c-850f-b37e05e2ea1d"
      },
      "source": [
        "pd.DataFrame(np.c_[y_test , pred] , columns=[\"Actual\" , \"Predicted\"])"
      ],
      "execution_count": null,
      "outputs": [
        {
          "output_type": "execute_result",
          "data": {
            "text/html": [
              "<div>\n",
              "<style scoped>\n",
              "    .dataframe tbody tr th:only-of-type {\n",
              "        vertical-align: middle;\n",
              "    }\n",
              "\n",
              "    .dataframe tbody tr th {\n",
              "        vertical-align: top;\n",
              "    }\n",
              "\n",
              "    .dataframe thead th {\n",
              "        text-align: right;\n",
              "    }\n",
              "</style>\n",
              "<table border=\"1\" class=\"dataframe\">\n",
              "  <thead>\n",
              "    <tr style=\"text-align: right;\">\n",
              "      <th></th>\n",
              "      <th>Actual</th>\n",
              "      <th>Predicted</th>\n",
              "    </tr>\n",
              "  </thead>\n",
              "  <tbody>\n",
              "    <tr>\n",
              "      <th>0</th>\n",
              "      <td>Negative</td>\n",
              "      <td>Negative</td>\n",
              "    </tr>\n",
              "    <tr>\n",
              "      <th>1</th>\n",
              "      <td>Positive</td>\n",
              "      <td>Positive</td>\n",
              "    </tr>\n",
              "    <tr>\n",
              "      <th>2</th>\n",
              "      <td>Negative</td>\n",
              "      <td>Negative</td>\n",
              "    </tr>\n",
              "    <tr>\n",
              "      <th>3</th>\n",
              "      <td>Positive</td>\n",
              "      <td>Positive</td>\n",
              "    </tr>\n",
              "    <tr>\n",
              "      <th>4</th>\n",
              "      <td>Positive</td>\n",
              "      <td>Negative</td>\n",
              "    </tr>\n",
              "    <tr>\n",
              "      <th>...</th>\n",
              "      <td>...</td>\n",
              "      <td>...</td>\n",
              "    </tr>\n",
              "    <tr>\n",
              "      <th>1652</th>\n",
              "      <td>Negative</td>\n",
              "      <td>Negative</td>\n",
              "    </tr>\n",
              "    <tr>\n",
              "      <th>1653</th>\n",
              "      <td>Positive</td>\n",
              "      <td>Positive</td>\n",
              "    </tr>\n",
              "    <tr>\n",
              "      <th>1654</th>\n",
              "      <td>Positive</td>\n",
              "      <td>Positive</td>\n",
              "    </tr>\n",
              "    <tr>\n",
              "      <th>1655</th>\n",
              "      <td>Negative</td>\n",
              "      <td>Negative</td>\n",
              "    </tr>\n",
              "    <tr>\n",
              "      <th>1656</th>\n",
              "      <td>Positive</td>\n",
              "      <td>Positive</td>\n",
              "    </tr>\n",
              "  </tbody>\n",
              "</table>\n",
              "<p>1657 rows × 2 columns</p>\n",
              "</div>"
            ],
            "text/plain": [
              "        Actual Predicted\n",
              "0     Negative  Negative\n",
              "1     Positive  Positive\n",
              "2     Negative  Negative\n",
              "3     Positive  Positive\n",
              "4     Positive  Negative\n",
              "...        ...       ...\n",
              "1652  Negative  Negative\n",
              "1653  Positive  Positive\n",
              "1654  Positive  Positive\n",
              "1655  Negative  Negative\n",
              "1656  Positive  Positive\n",
              "\n",
              "[1657 rows x 2 columns]"
            ]
          },
          "metadata": {
            "tags": []
          },
          "execution_count": 72
        }
      ]
    },
    {
      "cell_type": "markdown",
      "metadata": {
        "id": "NWDkCzpZoyoF"
      },
      "source": [
        "### Save the Pickel file"
      ]
    },
    {
      "cell_type": "code",
      "metadata": {
        "id": "T0Bn8vhN8ifv"
      },
      "source": [
        "import pickle\n",
        "pickle.dump(Vectorizer, open(\"count-Vectorizer.pkl\" , \"wb\"))\n",
        "pickle.dump(Model, open(\"Ebay_Review_Classification.pkl\" , \"wb\"))\n"
      ],
      "execution_count": null,
      "outputs": []
    },
    {
      "cell_type": "markdown",
      "metadata": {
        "id": "xKjriadUo9KU"
      },
      "source": [
        "### Load the pickle file"
      ]
    },
    {
      "cell_type": "code",
      "metadata": {
        "id": "HTpYJLkz8ih3"
      },
      "source": [
        "save_cv = pickle.load(open('count-Vectorizer.pkl','rb'))\n",
        "model = pickle.load(open('Ebay_Review_Classification.pkl','rb'))"
      ],
      "execution_count": null,
      "outputs": []
    },
    {
      "cell_type": "markdown",
      "metadata": {
        "id": "KXBB8vgUpGV8"
      },
      "source": [
        "### Test the model"
      ]
    },
    {
      "cell_type": "code",
      "metadata": {
        "id": "uXKIZOxr8ij8"
      },
      "source": [
        "def test_model(sentence):\n",
        "    sen = save_cv.transform([sentence]).toarray()\n",
        "    res = model.predict(sen)[0]\n",
        "    if res == 'Positive':\n",
        "        return 'Positive review'\n",
        "    else:\n",
        "        return 'Negative review'"
      ],
      "execution_count": null,
      "outputs": []
    },
    {
      "cell_type": "code",
      "metadata": {
        "colab": {
          "base_uri": "https://localhost:8080/"
        },
        "id": "TBcAGoPL8ilv",
        "outputId": "f1c588d7-c39f-4bfe-defe-775807057f2c"
      },
      "source": [
        "sen = 'didnt work recieved bought ps4 stayed put til gave son birthday excitement didnt work blue light stayed'\n",
        "res = test_model(sen)\n",
        "print(res)"
      ],
      "execution_count": null,
      "outputs": [
        {
          "output_type": "stream",
          "text": [
            "Negative review\n"
          ],
          "name": "stdout"
        }
      ]
    },
    {
      "cell_type": "code",
      "metadata": {
        "colab": {
          "base_uri": "https://localhost:8080/"
        },
        "id": "rdw8Mo3s8ioN",
        "outputId": "39a7b7fc-7f34-40e8-e7e2-5b27f56dbf61"
      },
      "source": [
        "sen = 'It works fine! Thank you!'\n",
        "res = test_model(sen)\n",
        "print(res)"
      ],
      "execution_count": null,
      "outputs": [
        {
          "output_type": "stream",
          "text": [
            "Positive review\n"
          ],
          "name": "stdout"
        }
      ]
    },
    {
      "cell_type": "code",
      "metadata": {
        "colab": {
          "base_uri": "https://localhost:8080/"
        },
        "id": "dMrOB9R-kMcK",
        "outputId": "c2485812-689c-46e9-cc65-c4a9ac93646a"
      },
      "source": [
        "sen = 'Do not buy it. Horrible product'\n",
        "res = test_model(sen)\n",
        "print(res)"
      ],
      "execution_count": null,
      "outputs": [
        {
          "output_type": "stream",
          "text": [
            "Negative review\n"
          ],
          "name": "stdout"
        }
      ]
    },
    {
      "cell_type": "code",
      "metadata": {
        "colab": {
          "base_uri": "https://localhost:8080/"
        },
        "id": "Zakm2sOMO_C1",
        "outputId": "0006d28c-417a-44c1-d49a-510b41de49fc"
      },
      "source": [
        "sen = 'Came with the original xbox controller box all smashed up. No padding nothing. Damaged all the way......'\n",
        "res = test_model(sen)\n",
        "print(res)"
      ],
      "execution_count": null,
      "outputs": [
        {
          "output_type": "stream",
          "text": [
            "Negative review\n"
          ],
          "name": "stdout"
        }
      ]
    }
  ]
}